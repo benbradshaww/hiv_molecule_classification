{
 "cells": [
  {
   "cell_type": "code",
   "execution_count": 1,
   "metadata": {},
   "outputs": [],
   "source": [
    "import torch_geometric\n",
    "from torch_geometric.datasets import MoleculeNet\n",
    "\n",
    "import networkx as nx\n",
    "import pandas as pd\n",
    "from IPython.display import display\n",
    "\n",
    "from rdkit import Chem\n",
    "from rdkit.Chem import Draw"
   ]
  },
  {
   "cell_type": "code",
   "execution_count": null,
   "metadata": {},
   "outputs": [],
   "source": [
    "# Load the HIV dataset\n",
    "dataset = MoleculeNet(root=\"/Users/benbradshaw/Documents/Code/2023/hiv/data/\", name=\"HIV\")"
   ]
  },
  {
   "cell_type": "code",
   "execution_count": null,
   "metadata": {},
   "outputs": [],
   "source": [
    "num_node_features = dataset.num_node_features\n",
    "num_edge_features = dataset.num_edge_features\n",
    "num_graphs = len(dataset)\n",
    "print('Number of Node Festures', num_node_features)\n",
    "print('Number of Edges features', num_edge_features)\n",
    "print('Number of Graphs:', num_graphs)"
   ]
  },
  {
   "cell_type": "code",
   "execution_count": null,
   "metadata": {},
   "outputs": [],
   "source": [
    "num_nodes = [data.num_nodes for data in dataset]\n",
    "num_edges = [data.num_edges for data in dataset]\n",
    "\n",
    "avg_nodes = sum(num_nodes) / len(num_nodes)\n",
    "avg_edges = sum(num_edges) / len(num_edges)\n",
    "\n",
    "print(f\"Average nodes per graph: {avg_nodes}\")\n",
    "print(f\"Average edges per graph: {avg_edges}\")"
   ]
  },
  {
   "cell_type": "code",
   "execution_count": null,
   "metadata": {},
   "outputs": [],
   "source": [
    "data = dataset[0]\n",
    "\n",
    "# Examine the attributes of the graph\n",
    "print(f\"Number of nodes: {data.num_nodes}\")\n",
    "print(f\"Number of edges: {data.num_edges}\")\n",
    "print(f\"Node features shape: {data.x.shape}\")\n",
    "print(f\"Edge index shape: {data.edge_index.shape}\")\n",
    "print(f\"Edge attributes shape: {data.edge_attr.shape if data.edge_attr is not None else 'No edge attributes'}\")"
   ]
  },
  {
   "cell_type": "code",
   "execution_count": null,
   "metadata": {},
   "outputs": [],
   "source": [
    "G = torch_geometric.utils.to_networkx(data, to_undirected=True)\n",
    "nx.draw(G, with_labels=True)"
   ]
  },
  {
   "cell_type": "code",
   "execution_count": null,
   "metadata": {},
   "outputs": [],
   "source": [
    "number_molecules_with_hiv = 0\n",
    "pos_indexes, neg_indexes = [], []\n",
    "for index, molecule in enumerate(dataset):\n",
    "\tlabel = molecule.y.item()\n",
    "\tif label:\n",
    "\t\tnumber_molecules_with_hiv += 1\n",
    "\t\tpos_indexes.append(index)\n",
    "\telse:\n",
    "\t\tneg_indexes.append(index)\n",
    "\n",
    "pct_molecules_with_hiv = (100*number_molecules_with_hiv)/num_graphs\n",
    "number_molecules_without_hiv = num_graphs - number_molecules_with_hiv\n",
    "\n",
    "print('Number of Molecules with HIV CM or CA: {:.2f}%'.format(pct_molecules_with_hiv))"
   ]
  },
  {
   "cell_type": "code",
   "execution_count": null,
   "metadata": {},
   "outputs": [],
   "source": [
    "df = pd.read_csv('/Users/benbradshaw/Documents/Code/2023/hiv/data/hiv/raw/HIV.csv')\n",
    "smiles = df['smiles'].tolist()\n",
    "\n",
    "num_examples = 5\n",
    "pos_molecules = [Chem.MolFromSmiles(smiles[index]) for index in pos_indexes]\n",
    "neg_molecules = [Chem.MolFromSmiles(smiles[index]) for index in neg_indexes]\n",
    "\n",
    "pos_molecules_sample = pos_molecules[:num_examples]\n",
    "neg_molecules_sample = neg_molecules[:num_examples]\n",
    "\n",
    "pos_images = Draw.MolsToGridImage(pos_molecules_sample, molsPerRow=num_examples)\n",
    "neg_images = Draw.MolsToGridImage(neg_molecules_sample, molsPerRow=num_examples)\n",
    "\n",
    "print('HIV Positive Molecules:')\n",
    "display(pos_images)\n",
    "print('HIV Negative Molecules:')\n",
    "display(neg_images)\n",
    "\n",
    "\n",
    "with open(\"./examples/pos_images.png\", \"wb\") as f:\n",
    "    f.write(pos_images.data)\n",
    "\n",
    "with open(\"./examples/neg_images.png\", \"wb\") as f:\n",
    "    f.write(neg_images.data)"
   ]
  },
  {
   "cell_type": "code",
   "execution_count": null,
   "metadata": {},
   "outputs": [],
   "source": [
    "df = pd.read_csv('./data/hiv/raw/HIV.csv')\n",
    "print('Number of Molecules HIV Positive:', number_molecules_with_hiv)\n",
    "print('Number of Molecules HIV Negative:', number_molecules_without_hiv)"
   ]
  },
  {
   "cell_type": "code",
   "execution_count": null,
   "metadata": {},
   "outputs": [],
   "source": []
  }
 ],
 "metadata": {
  "kernelspec": {
   "display_name": "myenv_hiv",
   "language": "python",
   "name": "python3"
  },
  "language_info": {
   "codemirror_mode": {
    "name": "ipython",
    "version": 3
   },
   "file_extension": ".py",
   "mimetype": "text/x-python",
   "name": "python",
   "nbconvert_exporter": "python",
   "pygments_lexer": "ipython3",
   "version": "3.10.14"
  }
 },
 "nbformat": 4,
 "nbformat_minor": 2
}
